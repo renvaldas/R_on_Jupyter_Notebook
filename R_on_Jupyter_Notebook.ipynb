{
 "cells": [
  {
   "cell_type": "markdown",
   "metadata": {},
   "source": [
    "# Install and run R on Jupyter Notebook"
   ]
  },
  {
   "cell_type": "raw",
   "metadata": {},
   "source": [
    "Instructions and sample code from:\n",
    "https://www.dataquest.io/blog/jupyter-notebook-tips-tricks-shortcuts/\n",
    "\n",
    "1. Download R from https://cran.r-project.org/bin/windows/base/ and install\n",
    "2. Download 'rpy2‑2.9.4‑cp36‑cp36m‑win_amd64.whl' (or your version) from https://www.lfd.uci.edu/~gohlke/pythonlibs/#rpy2\n",
    "    and install \"pip install rpy2‑2.9.4‑cp36‑cp36m‑win_amd64.whl\"\n",
    "3. pip install tzlocal\n",
    "4. In R install ggplot2: \"install.packages(\"ggplot2\", dep=T)\"\n",
    "and test if works \"library(ggplot2)\" (you can install same way more libraries if needed)\n",
    "5. Set environment variables\n",
    "    1) Add the path to R.dll to my PATH variable \n",
    "        (I went to the 64-bit directory: 'C:\\Program Files\\R\\R-3.5.1\\bin\\x64') \n",
    "    2) Add an environment variable R_HOME ('C:\\Program Files\\R\\R-3.5.1' for me) \n",
    "    3) Add an environment variable R_USER ('rm' for me).  \n",
    "    4) Add an environment variable R_LIBS_USER ('C:\\Users\\rm\\Documents\\rm\\R\\win-library\\3.5' for me).  You need find where R installs ggplot2. It goes to user directory.\n",
    "7. In Jupyter Notebook test in R '.libPaths()'. \n",
    "   You should see output:\n",
    "      '[1] \"C:/Users/rm/Documents/rm/R/win-library/3.5\"\n",
    "       [2] \"C:/Program Files/R/R-3.5.1/library\"'"
   ]
  },
  {
   "cell_type": "code",
   "execution_count": 1,
   "metadata": {},
   "outputs": [],
   "source": [
    "%load_ext rpy2.ipython"
   ]
  },
  {
   "cell_type": "code",
   "execution_count": 2,
   "metadata": {},
   "outputs": [
    {
     "data": {
      "text/plain": [
       "array(['C:/Users/rm/Documents/rm/R/win-library/3.5',\n",
       "       'C:/Program Files/R/R-3.5.1/library'], dtype='<U42')"
      ]
     },
     "execution_count": 2,
     "metadata": {},
     "output_type": "execute_result"
    }
   ],
   "source": [
    "# Check if library path set OK (you should see user and default catalog)\n",
    "%R .libPaths()"
   ]
  },
  {
   "cell_type": "code",
   "execution_count": 3,
   "metadata": {
    "scrolled": true
   },
   "outputs": [
    {
     "data": {
      "text/plain": [
       "array(['MASS', 'tools', 'stats', 'graphics', 'grDevices', 'utils',\n",
       "       'datasets', 'methods', 'base'], dtype='<U9')"
      ]
     },
     "execution_count": 3,
     "metadata": {},
     "output_type": "execute_result"
    }
   ],
   "source": [
    "# MASS library comes from default lib catalog, should work allways\n",
    "%R library(MASS)"
   ]
  },
  {
   "cell_type": "code",
   "execution_count": 4,
   "metadata": {},
   "outputs": [
    {
     "data": {
      "text/plain": [
       "array(['ggplot2', 'MASS', 'tools', 'stats', 'graphics', 'grDevices',\n",
       "       'utils', 'datasets', 'methods', 'base'], dtype='<U9')"
      ]
     },
     "execution_count": 4,
     "metadata": {},
     "output_type": "execute_result"
    }
   ],
   "source": [
    "# ggplot2 library is install in user lib directory, so it is important set R_LIBS_USER\n",
    "%R library(ggplot2)"
   ]
  },
  {
   "cell_type": "code",
   "execution_count": 5,
   "metadata": {},
   "outputs": [],
   "source": [
    "import pandas as pd\n",
    "df = pd.DataFrame({\n",
    "        'Letter': ['a', 'a', 'a', 'b', 'b', 'b', 'c', 'c', 'c'],\n",
    "        'X': [4, 3, 5, 2, 1, 7, 7, 5, 9],\n",
    "        'Y': [0, 4, 3, 6, 7, 10, 11, 9, 13],\n",
    "        'Z': [1, 2, 3, 1, 2, 3, 1, 2, 3]\n",
    "    })"
   ]
  },
  {
   "cell_type": "code",
   "execution_count": 7,
   "metadata": {},
   "outputs": [
    {
     "data": {
      "image/png": "[encoded data removed]"
     },
     "metadata": {},
     "output_type": "display_data"
    }
   ],
   "source": [
    "%%R -i df -w 500 -h 320 -u px\n",
    "ggplot(data = df) + geom_point(aes(x = X, y= Y, color = Letter, size = Z))"
   ]
  },
  {
   "cell_type": "code",
   "execution_count": null,
   "metadata": {},
   "outputs": [],
   "source": []
  }
 ],
 "metadata": {
  "kernelspec": {
   "display_name": "Python 3",
   "language": "python",
   "name": "python3"
  },
  "language_info": {
   "codemirror_mode": {
    "name": "ipython",
    "version": 3
   },
   "file_extension": ".py",
   "mimetype": "text/x-python",
   "name": "python",
   "nbconvert_exporter": "python",
   "pygments_lexer": "ipython3",
   "version": "3.6.5"
  }
 },
 "nbformat": 4,
 "nbformat_minor": 2
}
